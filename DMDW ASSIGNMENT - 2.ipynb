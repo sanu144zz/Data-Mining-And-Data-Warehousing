{
 "cells": [
  {
   "cell_type": "code",
   "execution_count": 10,
   "id": "40c60675",
   "metadata": {},
   "outputs": [
    {
     "data": {
      "text/html": [
       "<div>\n",
       "<style scoped>\n",
       "    .dataframe tbody tr th:only-of-type {\n",
       "        vertical-align: middle;\n",
       "    }\n",
       "\n",
       "    .dataframe tbody tr th {\n",
       "        vertical-align: top;\n",
       "    }\n",
       "\n",
       "    .dataframe thead th {\n",
       "        text-align: right;\n",
       "    }\n",
       "</style>\n",
       "<table border=\"1\" class=\"dataframe\">\n",
       "  <thead>\n",
       "    <tr style=\"text-align: right;\">\n",
       "      <th></th>\n",
       "      <th>sepal_length</th>\n",
       "      <th>sepal_width</th>\n",
       "      <th>petal_length</th>\n",
       "      <th>petal_width</th>\n",
       "      <th>species</th>\n",
       "    </tr>\n",
       "  </thead>\n",
       "  <tbody>\n",
       "    <tr>\n",
       "      <th>0</th>\n",
       "      <td>5.1</td>\n",
       "      <td>3.5</td>\n",
       "      <td>1.4</td>\n",
       "      <td>0.2</td>\n",
       "      <td>setosa</td>\n",
       "    </tr>\n",
       "    <tr>\n",
       "      <th>1</th>\n",
       "      <td>4.9</td>\n",
       "      <td>3.0</td>\n",
       "      <td>1.4</td>\n",
       "      <td>0.2</td>\n",
       "      <td>setosa</td>\n",
       "    </tr>\n",
       "    <tr>\n",
       "      <th>2</th>\n",
       "      <td>4.7</td>\n",
       "      <td>3.2</td>\n",
       "      <td>1.3</td>\n",
       "      <td>0.2</td>\n",
       "      <td>setosa</td>\n",
       "    </tr>\n",
       "    <tr>\n",
       "      <th>3</th>\n",
       "      <td>4.6</td>\n",
       "      <td>3.1</td>\n",
       "      <td>1.5</td>\n",
       "      <td>0.2</td>\n",
       "      <td>setosa</td>\n",
       "    </tr>\n",
       "    <tr>\n",
       "      <th>4</th>\n",
       "      <td>5.0</td>\n",
       "      <td>3.6</td>\n",
       "      <td>1.4</td>\n",
       "      <td>0.2</td>\n",
       "      <td>setosa</td>\n",
       "    </tr>\n",
       "    <tr>\n",
       "      <th>...</th>\n",
       "      <td>...</td>\n",
       "      <td>...</td>\n",
       "      <td>...</td>\n",
       "      <td>...</td>\n",
       "      <td>...</td>\n",
       "    </tr>\n",
       "    <tr>\n",
       "      <th>75</th>\n",
       "      <td>6.6</td>\n",
       "      <td>3.0</td>\n",
       "      <td>4.4</td>\n",
       "      <td>1.4</td>\n",
       "      <td>versicolor</td>\n",
       "    </tr>\n",
       "    <tr>\n",
       "      <th>76</th>\n",
       "      <td>6.8</td>\n",
       "      <td>2.8</td>\n",
       "      <td>4.8</td>\n",
       "      <td>1.4</td>\n",
       "      <td>versicolor</td>\n",
       "    </tr>\n",
       "    <tr>\n",
       "      <th>77</th>\n",
       "      <td>6.7</td>\n",
       "      <td>3.0</td>\n",
       "      <td>5.0</td>\n",
       "      <td>1.7</td>\n",
       "      <td>versicolor</td>\n",
       "    </tr>\n",
       "    <tr>\n",
       "      <th>78</th>\n",
       "      <td>6.0</td>\n",
       "      <td>2.9</td>\n",
       "      <td>4.5</td>\n",
       "      <td>1.5</td>\n",
       "      <td>versicolor</td>\n",
       "    </tr>\n",
       "    <tr>\n",
       "      <th>79</th>\n",
       "      <td>5.7</td>\n",
       "      <td>2.6</td>\n",
       "      <td>3.5</td>\n",
       "      <td>1.0</td>\n",
       "      <td>versicolor</td>\n",
       "    </tr>\n",
       "  </tbody>\n",
       "</table>\n",
       "<p>80 rows × 5 columns</p>\n",
       "</div>"
      ],
      "text/plain": [
       "    sepal_length  sepal_width  petal_length  petal_width     species\n",
       "0            5.1          3.5           1.4          0.2      setosa\n",
       "1            4.9          3.0           1.4          0.2      setosa\n",
       "2            4.7          3.2           1.3          0.2      setosa\n",
       "3            4.6          3.1           1.5          0.2      setosa\n",
       "4            5.0          3.6           1.4          0.2      setosa\n",
       "..           ...          ...           ...          ...         ...\n",
       "75           6.6          3.0           4.4          1.4  versicolor\n",
       "76           6.8          2.8           4.8          1.4  versicolor\n",
       "77           6.7          3.0           5.0          1.7  versicolor\n",
       "78           6.0          2.9           4.5          1.5  versicolor\n",
       "79           5.7          2.6           3.5          1.0  versicolor\n",
       "\n",
       "[80 rows x 5 columns]"
      ]
     },
     "execution_count": 10,
     "metadata": {},
     "output_type": "execute_result"
    }
   ],
   "source": [
    "import pandas as pd \n",
    "ds=pd.read_csv(\"downloads/iris/iris.csv\")\n",
    "ds.head(80)"
   ]
  },
  {
   "cell_type": "code",
   "execution_count": 1,
   "id": "40c41dae",
   "metadata": {},
   "outputs": [
    {
     "name": "stdout",
     "output_type": "stream",
     "text": [
      "Mean is  3.0540000000000003\n"
     ]
    }
   ],
   "source": [
    "import pandas as pd \n",
    "ds=pd.read_csv(\"downloads/iris/iris.csv\")\n",
    "ds2=ds[\"sepal_width\"].mean()\n",
    "print(\"Mean is \",ds2)"
   ]
  },
  {
   "cell_type": "code",
   "execution_count": 19,
   "id": "ad704a71",
   "metadata": {},
   "outputs": [
    {
     "name": "stdout",
     "output_type": "stream",
     "text": [
      "Median is  3.0\n"
     ]
    }
   ],
   "source": [
    "import pandas as pd \n",
    "ds=pd.read_csv(\"downloads/iris/iris.csv\")\n",
    "ds2=ds[\"sepal_width\"].median()\n",
    "print(\"Median is \",ds2)"
   ]
  },
  {
   "cell_type": "code",
   "execution_count": 20,
   "id": "b879cb8b",
   "metadata": {},
   "outputs": [
    {
     "name": "stdout",
     "output_type": "stream",
     "text": [
      "Maximum value is  7.9\n"
     ]
    }
   ],
   "source": [
    "import pandas as pd \n",
    "ds=pd.read_csv(\"downloads/iris/iris.csv\")\n",
    "ds2=ds[\"sepal_length\"].max()\n",
    "print(\"Maximum value is \",ds2)"
   ]
  },
  {
   "cell_type": "code",
   "execution_count": 21,
   "id": "05ec7949",
   "metadata": {},
   "outputs": [
    {
     "name": "stdout",
     "output_type": "stream",
     "text": [
      "Minimum value is  2.0\n"
     ]
    }
   ],
   "source": [
    "import pandas as pd \n",
    "ds=pd.read_csv(\"downloads/iris/iris.csv\")\n",
    "ds2=ds[\"sepal_width\"].min()\n",
    "print(\"Minimum value is \",ds2)"
   ]
  },
  {
   "cell_type": "code",
   "execution_count": 27,
   "id": "3df3fb29",
   "metadata": {},
   "outputs": [
    {
     "name": "stdout",
     "output_type": "stream",
     "text": [
      "Mode is  0    3.0\n",
      "Name: sepal_width, dtype: float64\n"
     ]
    }
   ],
   "source": [
    "import pandas as pd \n",
    "ds=pd.read_csv(\"downloads/iris/iris.csv\")\n",
    "ds2=ds[\"sepal_width\"].mode()\n",
    "print(\"Mode is \",ds2)"
   ]
  },
  {
   "cell_type": "code",
   "execution_count": 37,
   "id": "9becbc4b",
   "metadata": {},
   "outputs": [
    {
     "data": {
      "image/png": "[encoded data removed]",
      "text/plain": [
       "<Figure size 640x480 with 1 Axes>"
      ]
     },
     "metadata": {},
     "output_type": "display_data"
    }
   ],
   "source": [
    "import pandas as pd \n",
    "import matplotlib.pyplot as plot\n",
    "ds=pd.read_csv(\"downloads/iris/iris.csv\")\n",
    "b_plot = ds.boxplot(column = 'sepal_width')\n",
    "b_plot.plot()\n",
    "plot.show() \n"
   ]
  },
  {
   "cell_type": "code",
   "execution_count": 38,
   "id": "53b02246",
   "metadata": {},
   "outputs": [
    {
     "data": {
      "image/png": "[encoded data removed]",
      "text/plain": [
       "<Figure size 640x480 with 1 Axes>"
      ]
     },
     "metadata": {},
     "output_type": "display_data"
    }
   ],
   "source": [
    "import pandas as pd \n",
    "import matplotlib.pyplot as plot\n",
    "ds=pd.read_csv(\"downloads/iris/iris.csv\")\n",
    "b_plot = ds.boxplot(column = ['sepal_length','sepal_width','petal_width','petal_length'])\n",
    "b_plot.plot()\n",
    "plot.show() "
   ]
  },
  {
   "cell_type": "code",
   "execution_count": null,
   "id": "367e31eb",
   "metadata": {},
   "outputs": [],
   "source": []
  }
 ],
 "metadata": {
  "kernelspec": {
   "display_name": "Python 3 (ipykernel)",
   "language": "python",
   "name": "python3"
  },
  "language_info": {
   "codemirror_mode": {
    "name": "ipython",
    "version": 3
   },
   "file_extension": ".py",
   "mimetype": "text/x-python",
   "name": "python",
   "nbconvert_exporter": "python",
   "pygments_lexer": "ipython3",
   "version": "3.10.9"
  }
 },
 "nbformat": 4,
 "nbformat_minor": 5
}
