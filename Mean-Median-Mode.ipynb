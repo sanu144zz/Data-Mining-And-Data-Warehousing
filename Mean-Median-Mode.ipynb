{
 "cells": [
  {
   "cell_type": "code",
   "execution_count": 2,
   "id": "723a784f",
   "metadata": {},
   "outputs": [
    {
     "name": "stdout",
     "output_type": "stream",
     "text": [
      "Mean is  44.285714285714285\n"
     ]
    }
   ],
   "source": [
    "#mean\n",
    "l=[10,20,30,80,50,70,50]\n",
    "n=len(l)\n",
    "s=0\n",
    "for i in range(0,n):\n",
    "    s=s+l[i]\n",
    "mean=s/n\n",
    "print(\"Mean is \",mean)\n"
   ]
  },
  {
   "cell_type": "code",
   "execution_count": 3,
   "id": "645f8ee6",
   "metadata": {},
   "outputs": [
    {
     "name": "stdout",
     "output_type": "stream",
     "text": [
      "50\n"
     ]
    }
   ],
   "source": [
    "#median\n",
    "l=[10,20,30,80,50,70,50]\n",
    "l.sort()\n",
    "n=len(l)\n",
    "if n%2==0:\n",
    "    m1=l[n//2]\n",
    "    m2=l[(n//2)-1]\n",
    "    medain=(m1+m2)//2\n",
    "else:\n",
    "    medain=l[n//2]\n",
    "print(\"Median is \",medain)"
   ]
  },
  {
   "cell_type": "code",
   "execution_count": 4,
   "id": "beca9f37",
   "metadata": {},
   "outputs": [
    {
     "name": "stdout",
     "output_type": "stream",
     "text": [
      "{50}\n"
     ]
    }
   ],
   "source": [
    "#mode\n",
    "l=[10,20,30,80,50,70,50]\n",
    "unique=[]\n",
    "mod=[]\n",
    "for i in l:\n",
    "    if i not in unique:\n",
    "        unique.append(i)\n",
    "    else:\n",
    "        mod.append(i)\n",
    "print(set(mod))\n"
   ]
  },
  {
   "cell_type": "code",
   "execution_count": 6,
   "id": "6b239f26",
   "metadata": {},
   "outputs": [
    {
     "name": "stdout",
     "output_type": "stream",
     "text": [
      "566.3469387755101\n",
      "23.79804485195181\n"
     ]
    }
   ],
   "source": [
    "#variance and sd\n",
    "import math\n",
    "l=[10,20,30,80,50,70,50]\n",
    "l1=[]\n",
    "n=len(l)\n",
    "s=0\n",
    "s1=0\n",
    "for i in range(0,n):\n",
    "    s=s+l[i]\n",
    "mean=s/n\n",
    "for i in range(0,n):\n",
    "    l1.append(l[i]-mean)\n",
    "m=len(l1)\n",
    "for j in range(0,m):\n",
    "    l1[j]=l1[j]**2\n",
    "    s1=s1+l1[j]\n",
    "variance=s1/n-1\n",
    "sd=math.sqrt(variance)\n",
    "print(variance)\n",
    "print(sd)"
   ]
  },
  {
   "cell_type": "code",
   "execution_count": null,
   "id": "ceab67a8",
   "metadata": {},
   "outputs": [],
   "source": []
  }
 ],
 "metadata": {
  "kernelspec": {
   "display_name": "Python 3 (ipykernel)",
   "language": "python",
   "name": "python3"
  },
  "language_info": {
   "codemirror_mode": {
    "name": "ipython",
    "version": 3
   },
   "file_extension": ".py",
   "mimetype": "text/x-python",
   "name": "python",
   "nbconvert_exporter": "python",
   "pygments_lexer": "ipython3",
   "version": "3.10.9"
  }
 },
 "nbformat": 4,
 "nbformat_minor": 5
}
